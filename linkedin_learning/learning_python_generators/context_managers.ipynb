{
 "cells": [
  {
   "cell_type": "raw",
   "metadata": {},
   "source": [
    "#context manager using generator\n",
    "#basic framework\n",
    "\"\"\"\n",
    "@contextmanager\n",
    "def simple_cm(n):\n",
    "    try:\n",
    "        #setup code\n",
    "        yield\n",
    "    finally:\n",
    "        wrap code\n",
    "\"\"\""
   ]
  },
  {
   "cell_type": "code",
   "execution_count": 5,
   "metadata": {},
   "outputs": [
    {
     "name": "stdout",
     "output_type": "stream",
     "text": [
      "6\n"
     ]
    },
    {
     "data": {
      "text/plain": [
       "5"
      ]
     },
     "execution_count": 5,
     "metadata": {},
     "output_type": "execute_result"
    }
   ],
   "source": [
    "from contextlib import contextmanager\n",
    "@contextmanager\n",
    "def simple_context_manager(obj):\n",
    "    try:\n",
    "        obj.some_property+=1\n",
    "        yield\n",
    "    finally:\n",
    "        obj.some_property-=1\n",
    "\n",
    "class Some_obj(object):\n",
    "    def __init__(self, arg):\n",
    "        self.some_property = arg\n",
    "\n",
    "obj = Some_obj(5)\n",
    "obj.some_property\n",
    "\n",
    "with simple_context_manager(obj):\n",
    "    print(obj.some_property)\n",
    "obj.some_property"
   ]
  },
  {
   "cell_type": "code",
   "execution_count": null,
   "metadata": {},
   "outputs": [],
   "source": []
  }
 ],
 "metadata": {
  "kernelspec": {
   "display_name": "Python 3",
   "language": "python",
   "name": "python3"
  },
  "language_info": {
   "codemirror_mode": {
    "name": "ipython",
    "version": 3
   },
   "file_extension": ".py",
   "mimetype": "text/x-python",
   "name": "python",
   "nbconvert_exporter": "python",
   "pygments_lexer": "ipython3",
   "version": "3.6.7"
  }
 },
 "nbformat": 4,
 "nbformat_minor": 2
}
