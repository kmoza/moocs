{
 "cells": [
  {
   "cell_type": "markdown",
   "metadata": {},
   "source": [
    "#### fibonacci generator"
   ]
  },
  {
   "cell_type": "code",
   "execution_count": 2,
   "metadata": {},
   "outputs": [],
   "source": [
    "def fibonacci_generator():\n",
    "    f1, f2 = 0,1\n",
    "    while True:\n",
    "        yield f2\n",
    "        f1,f2 = f2, f1+f2\n",
    "\n",
    "fib = fibonacci_generator()"
   ]
  },
  {
   "cell_type": "code",
   "execution_count": 3,
   "metadata": {},
   "outputs": [
    {
     "data": {
      "text/plain": [
       "generator"
      ]
     },
     "execution_count": 3,
     "metadata": {},
     "output_type": "execute_result"
    }
   ],
   "source": [
    "type(fib)"
   ]
  },
  {
   "cell_type": "code",
   "execution_count": 11,
   "metadata": {},
   "outputs": [
    {
     "data": {
      "text/plain": [
       "[8670007398507948658051921,\n",
       " 14028366653498915298923761,\n",
       " 22698374052006863956975682,\n",
       " 36726740705505779255899443,\n",
       " 59425114757512643212875125,\n",
       " 96151855463018422468774568,\n",
       " 155576970220531065681649693,\n",
       " 251728825683549488150424261,\n",
       " 407305795904080553832073954,\n",
       " 659034621587630041982498215,\n",
       " 1066340417491710595814572169,\n",
       " 1725375039079340637797070384,\n",
       " 2791715456571051233611642553,\n",
       " 4517090495650391871408712937,\n",
       " 7308805952221443105020355490,\n",
       " 11825896447871834976429068427,\n",
       " 19134702400093278081449423917,\n",
       " 30960598847965113057878492344,\n",
       " 50095301248058391139327916261,\n",
       " 81055900096023504197206408605]"
      ]
     },
     "execution_count": 11,
     "metadata": {},
     "output_type": "execute_result"
    }
   ],
   "source": [
    "[next(fib) for i in range(20)]"
   ]
  },
  {
   "cell_type": "code",
   "execution_count": null,
   "metadata": {},
   "outputs": [],
   "source": []
  }
 ],
 "metadata": {
  "kernelspec": {
   "display_name": "Python 3",
   "language": "python",
   "name": "python3"
  },
  "language_info": {
   "codemirror_mode": {
    "name": "ipython",
    "version": 3
   },
   "file_extension": ".py",
   "mimetype": "text/x-python",
   "name": "python",
   "nbconvert_exporter": "python",
   "pygments_lexer": "ipython3",
   "version": "3.6.5"
  }
 },
 "nbformat": 4,
 "nbformat_minor": 2
}
