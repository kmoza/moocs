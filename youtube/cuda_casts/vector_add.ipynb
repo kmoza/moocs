{
  "nbformat": 4,
  "nbformat_minor": 0,
  "metadata": {
    "colab": {
      "name": "vector_add.ipynb",
      "provenance": [],
      "collapsed_sections": [],
      "authorship_tag": "ABX9TyMlysm/qIKljRq5REyW0OkD",
      "include_colab_link": true
    },
    "kernelspec": {
      "name": "python3",
      "display_name": "Python 3"
    },
    "accelerator": "GPU"
  },
  "cells": [
    {
      "cell_type": "markdown",
      "metadata": {
        "id": "view-in-github",
        "colab_type": "text"
      },
      "source": [
        "<a href=\"https://colab.research.google.com/github/kmoza/moocs/blob/master/vector_add.ipynb\" target=\"_parent\"><img src=\"https://colab.research.google.com/assets/colab-badge.svg\" alt=\"Open In Colab\"/></a>"
      ]
    },
    {
      "cell_type": "markdown",
      "metadata": {
        "id": "6_IbesY1-ojX",
        "colab_type": "text"
      },
      "source": [
        "\n",
        "\n",
        "```\n",
        "# code example from cuda casts\n",
        "```\n",
        "\n"
      ]
    },
    {
      "cell_type": "code",
      "metadata": {
        "id": "twKX7m9n7t6M",
        "colab_type": "code",
        "colab": {}
      },
      "source": [
        "import numpy as np\n",
        "import time\n",
        "\n",
        "from numba import vectorize, cuda\n",
        "\n",
        "@vectorize(['float32(float32, float32)'], target='cuda')\n",
        "def vector_add(a,b):\n",
        "    return a+b\n",
        "\n",
        "def main():\n",
        "    n = 32000000\n",
        "    a = np.ones(n, dtype=np.float32)\n",
        "    b = np.ones(n, dtype=np.float32)\n",
        "\n",
        "    start = time.time()\n",
        "    c = vector_add(a, b)\n",
        "    vector_add_time = time.time() - start\n",
        "\n",
        "    print(\"c[:5] = \"+ str(c[:5]))\n",
        "    print(\"c[-5:] = \"+ str(c[-5:]))\n",
        "\n",
        "    print(\"vectoradd took for {} seconds\".format(vector_add_time))\n",
        "\n",
        "if __name__ == '__main__':\n",
        "    main()"
      ],
      "execution_count": 0,
      "outputs": []
    }
  ]
}